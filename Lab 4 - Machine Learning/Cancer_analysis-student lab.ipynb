{
 "cells": [
  {
   "cell_type": "code",
   "execution_count": 2,
   "metadata": {
    "collapsed": false,
    "deletable": true,
    "editable": true
   },
   "outputs": [],
   "source": [
    "import numpy as np # linear algebra\n",
    "import pandas as pd # data processing, CSV file I/O (e.g. pd.read_csv)\n",
    "import seaborn as sns\n",
    "import matplotlib.pyplot as plt # for plotting data\n",
    "\n",
    "# load these packages by clicking shift + enter"
   ]
  },
  {
   "cell_type": "code",
   "execution_count": 3,
   "metadata": {
    "collapsed": true,
    "deletable": true,
    "editable": true
   },
   "outputs": [],
   "source": [
    "cancer_data = pd.read_csv(\"/Users/Sundipta/Desktop/Cancer_data.csv\") #edit this to load the dataset "
   ]
  },
  {
   "cell_type": "code",
   "execution_count": null,
   "metadata": {
    "collapsed": true,
    "deletable": true,
    "editable": true
   },
   "outputs": [],
   "source": [
    "cancer_data.head(2) #show the first 2 rows from the dataset"
   ]
  },
  {
   "cell_type": "code",
   "execution_count": null,
   "metadata": {
    "collapsed": true,
    "deletable": true,
    "editable": true
   },
   "outputs": [],
   "source": [
    "cancer_data.info()  #checking if there is any inconsistency in the dataset\n",
    "#as we see there are no null values in the dataset, so the data can be processed"
   ]
  },
  {
   "cell_type": "markdown",
   "metadata": {
    "deletable": true,
    "editable": true
   },
   "source": [
    "### Clean the data\n",
    "Which column do you think is unneeded? "
   ]
  },
  {
   "cell_type": "code",
   "execution_count": 8,
   "metadata": {
    "collapsed": true,
    "deletable": true,
    "editable": true
   },
   "outputs": [],
   "source": [
    "cancer_data.drop('Type Unneccessary Column Name Here',axis=1,inplace=True) #dropping the column as it is unecessary, \n",
    "#axis=1 specifies that it should be column wise, inplace =1 means the changes should be reflected into the dataframe"
   ]
  },
  {
   "cell_type": "markdown",
   "metadata": {
    "deletable": true,
    "editable": true
   },
   "source": [
    "## Visualizing the data"
   ]
  },
  {
   "cell_type": "code",
   "execution_count": null,
   "metadata": {
    "collapsed": true,
    "deletable": true,
    "editable": true
   },
   "outputs": [],
   "source": [
    "fig = cancer_data[cancer_data.Species=='Type 1'].plot(kind='scatter',x='Gene1_dim1',y='Gene1_dim2',color='orange', label='Type 1')\n",
    "cancer_data[cancer_data.Species=='Type 2'].plot(kind='scatter',x='Gene1_dim1',y='Gene1_dim2',color='blue', label='Type 2', ax = fig)\n",
    "cancer_data[cancer_data.Species=='Type 3'].plot(kind='scatter',x='Gene1_dim1',y='Gene1_dim2',color='green', label='Type 3', ax = fig)\n",
    "fig.set_xlabel(\"Gene1_dim1\")\n",
    "fig.set_ylabel(\"Gene1_dim2\")\n",
    "fig.set_title(\"Gene1\")\n",
    "fig=plt.gcf()\n",
    "fig.set_size_inches(10,6)\n",
    "plt.show()"
   ]
  },
  {
   "cell_type": "markdown",
   "metadata": {
    "deletable": true,
    "editable": true
   },
   "source": [
    "Change the color of the type 1 data"
   ]
  },
  {
   "cell_type": "markdown",
   "metadata": {
    "deletable": true,
    "editable": true
   },
   "source": [
    "The above graph looks at the first gene. Now let's look at the second gene. "
   ]
  },
  {
   "cell_type": "code",
   "execution_count": null,
   "metadata": {
    "collapsed": true,
    "deletable": true,
    "editable": true
   },
   "outputs": [],
   "source": [
    "fig = cancer_data[cancer_data.Species=='Type 1'].plot.scatter(x='Gene2_dim1',y='Gene2_dim2',color='orange', label='Type 1')\n",
    "cancer_data[cancer_data.Species=='Type 2'].plot.scatter(x='Gene2_dim1',y='Gene2_dim2',color='blue', label='Type 2',ax=fig)\n",
    "cancer_data[cancer_data.Species=='Type 3'].plot.scatter(x='Gene2_dim1',y='Gene2_dim2',color='green', label='Type 3', ax=fig)\n",
    "fig.set_xlabel(\"Gene2_dim1\")\n",
    "fig.set_ylabel(\"Gene2_dim2\")\n",
    "fig.set_title(\" Gene 2\")\n",
    "fig=plt.gcf()\n",
    "fig.set_size_inches(10,6)\n",
    "plt.show()"
   ]
  },
  {
   "cell_type": "markdown",
   "metadata": {
    "deletable": true,
    "editable": true
   },
   "source": [
    "Which clusters look easier to separate? Gene 1 or gene 2?"
   ]
  },
  {
   "cell_type": "markdown",
   "metadata": {
    "deletable": true,
    "editable": true
   },
   "source": [
    "This may give us an indication of which gene will give us better predictions."
   ]
  },
  {
   "cell_type": "code",
   "execution_count": null,
   "metadata": {
    "collapsed": true,
    "deletable": true,
    "editable": true
   },
   "outputs": [],
   "source": [
    "#Now let's look at how the dimensions are distributed.\n",
    "cancer_data.hist(edgecolor='black', linewidth=1.2)\n",
    "fig=plt.gcf()\n",
    "fig.set_size_inches(12,6)\n",
    "plt.show()"
   ]
  },
  {
   "cell_type": "code",
   "execution_count": null,
   "metadata": {
    "collapsed": true,
    "deletable": true,
    "editable": true
   },
   "outputs": [],
   "source": [
    "plt.figure(figsize=(15,10))\n",
    "plt.subplot(2,2,1)\n",
    "sns.violinplot(x='Species',y='Gene2_dim1',data=cancer_data)\n",
    "plt.subplot(2,2,2)\n",
    "sns.violinplot(x='Species',y='Gene2_dim2',data=cancer_data)\n",
    "plt.subplot(2,2,3)\n",
    "sns.violinplot(x='Species',y='Gene1_dim1',data=cancer_data)\n",
    "plt.subplot(2,2,4)\n",
    "sns.violinplot(x='Species',y='Gene1_dim2',data=cancer_data)\n",
    "plt.show()"
   ]
  },
  {
   "cell_type": "markdown",
   "metadata": {
    "deletable": true,
    "editable": true
   },
   "source": [
    "The violinplot shows density of the dimensions in the different types. The thinner part denotes that there is less density whereas the fatter part conveys higher density"
   ]
  },
  {
   "cell_type": "markdown",
   "metadata": {
    "deletable": true,
    "editable": true
   },
   "source": [
    "### Now the given problem is a classification problem.. Thus we will be using the classification algorithms to build a model.\n",
    "\n",
    "Classification: \n",
    "samples belong to two or more classes and we want to learn from already labeled data how to predict the class of unlabeled data\n",
    "\n",
    "Regression: if the desired output consists of one or more continuous variables, then the task is called regression. An example of a regression problem would be the prediction of the length of a salmon as a function of its age and weight.\n",
    "Before we start, we need to clear some ML notations.\n",
    "\n",
    "attributes-->An attribute is a property of an instance that may be used to determine its classification. In the following dataset, the attributes are the two genes and their different dimensions. It is also known as Features.\n",
    "\n",
    "Target variable, in the machine learning context is the variable that is or should be the output. Here the target variables are the 3 tumor types."
   ]
  },
  {
   "cell_type": "code",
   "execution_count": 20,
   "metadata": {
    "collapsed": false,
    "deletable": true,
    "editable": true
   },
   "outputs": [
    {
     "name": "stderr",
     "output_type": "stream",
     "text": [
      "/Users/Sundipta/venv3/lib/python2.7/site-packages/sklearn/cross_validation.py:44: DeprecationWarning: This module was deprecated in version 0.18 in favor of the model_selection module into which all the refactored classes and functions are moved. Also note that the interface of the new CV iterators are different from that of this module. This module will be removed in 0.20.\n",
      "  \"This module will be removed in 0.20.\", DeprecationWarning)\n"
     ]
    }
   ],
   "source": [
    "# importing alll the necessary packages to use the various classification algorithms\n",
    "from sklearn.linear_model import LogisticRegression  # for Logistic Regression algorithm\n",
    "from sklearn.cross_validation import train_test_split #to split the dataset for training and testing\n",
    "from sklearn.neighbors import KNeighborsClassifier  # for K nearest neighbours\n",
    "from sklearn import svm  #for Support Vector Machine (SVM) Algorithm\n",
    "from sklearn import metrics #for checking the model accuracy\n",
    "from sklearn.tree import DecisionTreeClassifier #for using Decision Tree Algoithm"
   ]
  },
  {
   "cell_type": "code",
   "execution_count": null,
   "metadata": {
    "collapsed": true,
    "deletable": true,
    "editable": true
   },
   "outputs": [],
   "source": [
    "cancer_data.shape #get the shape of the dataset"
   ]
  },
  {
   "cell_type": "markdown",
   "metadata": {
    "deletable": true,
    "editable": true
   },
   "source": [
    "Now, when we train any algorithm, the number of features and their correlation plays an important role. If there are features and many of the features are highly correlated, then training an algorithm with all the featues will reduce the accuracy. Thus features selection should be done carefully. This dataset has less featues but still we will see the correlation."
   ]
  },
  {
   "cell_type": "code",
   "execution_count": null,
   "metadata": {
    "collapsed": true,
    "deletable": true,
    "editable": true
   },
   "outputs": [],
   "source": [
    "plt.figure(figsize=(7,4)) \n",
    "sns.heatmap(cancer_data.corr(),annot=True,cmap='cubehelix_r') #draws  heatmap with input as the correlation matrix calculted by(iris.corr())\n",
    "plt.show()"
   ]
  },
  {
   "cell_type": "markdown",
   "metadata": {
    "deletable": true,
    "editable": true
   },
   "source": [
    "Observation--->\n",
    "The gene 1 dimensions are not correlated and the gene 2 dimensions are highly correlated\n",
    "We will use all the features for training the algorithm and check the accuracy.\n",
    "Then we will use 1 gene1 Feature and 1 gene2 Feature to check the accuracy of the algorithm as we are using only 2 features that are not correlated. Thus we can have a variance in the dataset which may help in better accuracy. We will check it later."
   ]
  },
  {
   "cell_type": "markdown",
   "metadata": {
    "deletable": true,
    "editable": true
   },
   "source": [
    "### Steps To Be followed When Applying an Algorithm\n",
    "\n",
    "1) Split the dataset into training and testing dataset. The testing dataset is generally smaller than training one as it will help in training the model better.\n",
    "\n",
    "2) Select any algorithm based on the problem (classification or regression) whatever you feel may be good.\n",
    "\n",
    "3) Then pass the training dataset to the algorithm to train it. We use the .fit() method\n",
    "\n",
    "4) Then pass the testing data to the trained algorithm to predict the outcome. We use the .predict() method.\n",
    "\n",
    "5) We then check the accuracy by passing the predicted outcome and the actual output to the model."
   ]
  },
  {
   "cell_type": "markdown",
   "metadata": {
    "deletable": true,
    "editable": true
   },
   "source": [
    "### Splitting The Data into Training And Testing Dataset¶"
   ]
  },
  {
   "cell_type": "code",
   "execution_count": null,
   "metadata": {
    "collapsed": true,
    "deletable": true,
    "editable": true
   },
   "outputs": [],
   "source": [
    "train, test = train_test_split(cancer_data, test_size = 0.3)# in this our main data is split into train and test\n",
    "# the attribute test_size=0.3 splits the data into 70% and 30% ratio. train=70% and test=30%\n",
    "print(train.shape)\n",
    "print(test.shape)"
   ]
  },
  {
   "cell_type": "code",
   "execution_count": 26,
   "metadata": {
    "collapsed": true,
    "deletable": true,
    "editable": true
   },
   "outputs": [],
   "source": [
    "train_X = train[['Gene1_dim1','Gene1_dim2','Gene2_dim1','Gene2_dim2']]# taking the training data features\n",
    "train_y=train.Species# output of our training data\n",
    "test_X= test[['Gene1_dim1','Gene1_dim2','Gene2_dim1','Gene2_dim2']] # taking test data features\n",
    "test_y =test.Species   #output value of test data"
   ]
  },
  {
   "cell_type": "markdown",
   "metadata": {
    "deletable": true,
    "editable": true
   },
   "source": [
    "Lets check the Train and Test Dataset"
   ]
  },
  {
   "cell_type": "code",
   "execution_count": null,
   "metadata": {
    "collapsed": true,
    "deletable": true,
    "editable": true
   },
   "outputs": [],
   "source": [
    "train_X.head(2)"
   ]
  },
  {
   "cell_type": "code",
   "execution_count": null,
   "metadata": {
    "collapsed": true,
    "deletable": true,
    "editable": true
   },
   "outputs": [],
   "source": [
    "test_X.head(2)"
   ]
  },
  {
   "cell_type": "code",
   "execution_count": null,
   "metadata": {
    "collapsed": true,
    "deletable": true,
    "editable": true
   },
   "outputs": [],
   "source": [
    "train_y.head() # Notice that for the training set, the tumor types are labeled."
   ]
  },
  {
   "cell_type": "markdown",
   "metadata": {
    "deletable": true,
    "editable": true
   },
   "source": [
    "### Algorithm 1: Support Vector Machine (SVM)"
   ]
  },
  {
   "cell_type": "code",
   "execution_count": null,
   "metadata": {
    "collapsed": true,
    "deletable": true,
    "editable": true
   },
   "outputs": [],
   "source": [
    "model = svm.SVC() #select the algorithm\n",
    "model.fit(train_X,train_y) # we train the algorithm with the training data and the training output\n",
    "prediction=model.predict(test_X) #now we pass the testing data to the trained algorithm\n",
    "print('The accuracy of the SVM is:',metrics.accuracy_score(prediction,test_y))#now we check the accuracy of the algorithm. \n",
    "#we pass the predicted output by the model and the actual output"
   ]
  },
  {
   "cell_type": "markdown",
   "metadata": {
    "deletable": true,
    "editable": true
   },
   "source": [
    "SVM is giving very good accuracy . We will continue to check the accuracy for different models.\n",
    "\n",
    "Now we will follow the same steps as above for training various machine learning algorithms."
   ]
  },
  {
   "cell_type": "markdown",
   "metadata": {
    "deletable": true,
    "editable": true
   },
   "source": [
    "### Algorithm 2: Logistic Regression\n"
   ]
  },
  {
   "cell_type": "code",
   "execution_count": null,
   "metadata": {
    "collapsed": true,
    "deletable": true,
    "editable": true
   },
   "outputs": [],
   "source": [
    "model = LogisticRegression()\n",
    "model.fit(train_X,train_y)\n",
    "prediction=model.predict(test_X)\n",
    "print('The accuracy of the Logistic Regression is',metrics.accuracy_score(prediction,test_y))"
   ]
  },
  {
   "cell_type": "markdown",
   "metadata": {
    "deletable": true,
    "editable": true
   },
   "source": [
    "### Algorithm 3: Decision Tree"
   ]
  },
  {
   "cell_type": "code",
   "execution_count": null,
   "metadata": {
    "collapsed": true,
    "deletable": true,
    "editable": true
   },
   "outputs": [],
   "source": [
    "model=DecisionTreeClassifier()\n",
    "model.fit(train_X,train_y)\n",
    "prediction=model.predict(test_X)\n",
    "print('The accuracy of the Decision Tree is',metrics.accuracy_score(prediction,test_y))"
   ]
  },
  {
   "cell_type": "markdown",
   "metadata": {
    "deletable": true,
    "editable": true
   },
   "source": [
    "### Algorithm 4: K-Nearest Neighbors"
   ]
  },
  {
   "cell_type": "code",
   "execution_count": null,
   "metadata": {
    "collapsed": true,
    "deletable": true,
    "editable": true
   },
   "outputs": [],
   "source": [
    "model=KNeighborsClassifier(n_neighbors=3) #this examines 3 neighbours for putting the new data into a class\n",
    "model.fit(train_X,train_y)\n",
    "prediction=model.predict(test_X)\n",
    "print('The accuracy of the KNN is',metrics.accuracy_score(prediction,test_y))"
   ]
  },
  {
   "cell_type": "markdown",
   "metadata": {
    "deletable": true,
    "editable": true
   },
   "source": [
    "Let's check the accuracy for various values of n for K-Nearest nerighbours"
   ]
  },
  {
   "cell_type": "code",
   "execution_count": null,
   "metadata": {
    "collapsed": true,
    "deletable": true,
    "editable": true
   },
   "outputs": [],
   "source": [
    "a_index=list(range(1,11))\n",
    "a=pd.Series()\n",
    "x=[1,2,3,4,5,6,7,8,9,10]\n",
    "for i in list(range(1,11)):\n",
    "    model=KNeighborsClassifier(n_neighbors=i) \n",
    "    model.fit(train_X,train_y)\n",
    "    prediction=model.predict(test_X)\n",
    "    a=a.append(pd.Series(metrics.accuracy_score(prediction,test_y)))\n",
    "plt.plot(a_index, a)\n",
    "plt.xticks(x)\n",
    "plt.show()"
   ]
  },
  {
   "cell_type": "markdown",
   "metadata": {
    "deletable": true,
    "editable": true
   },
   "source": [
    "Above is the graph showing the accuracy for the KNN models using different values of n."
   ]
  },
  {
   "cell_type": "markdown",
   "metadata": {
    "deletable": true,
    "editable": true
   },
   "source": [
    "### In the above model, we used all the features. Now we will use Gene 1 and Gene 2 features separately."
   ]
  },
  {
   "cell_type": "markdown",
   "metadata": {
    "deletable": true,
    "editable": true
   },
   "source": [
    "#### Create the training data"
   ]
  },
  {
   "cell_type": "code",
   "execution_count": 37,
   "metadata": {
    "collapsed": true,
    "deletable": true,
    "editable": true
   },
   "outputs": [],
   "source": [
    "gene_1=cancer_data[['Gene1_dim1','Gene1_dim2','Species']]\n",
    "gene_2=cancer_data[['Gene2_dim1','Gene2_dim2','Species']]"
   ]
  },
  {
   "cell_type": "code",
   "execution_count": 38,
   "metadata": {
    "collapsed": true,
    "deletable": true,
    "editable": true
   },
   "outputs": [],
   "source": [
    "train_p,test_p=train_test_split(gene_1,test_size=0.3,random_state=0)  #Gene 1\n",
    "train_x_p=train_p[['Gene1_dim1','Gene1_dim2']]\n",
    "train_y_p=train_p.Species\n",
    "test_x_p=test_p[['Gene1_dim1','Gene1_dim2']]\n",
    "test_y_p=test_p.Species\n",
    "\n",
    "\n",
    "train_s,test_s=train_test_split(gene_2,test_size=0.3,random_state=0)  #Gene 2\n",
    "train_x_s=train_s[['Gene2_dim1','Gene2_dim2']]\n",
    "train_y_s=train_s.Species\n",
    "test_x_s=test_s[['Gene2_dim1','Gene2_dim2']]\n",
    "test_y_s=test_s.Species"
   ]
  },
  {
   "cell_type": "markdown",
   "metadata": {
    "deletable": true,
    "editable": true
   },
   "source": [
    "### SVM"
   ]
  },
  {
   "cell_type": "code",
   "execution_count": null,
   "metadata": {
    "collapsed": true,
    "deletable": true,
    "editable": true
   },
   "outputs": [],
   "source": [
    "model=svm.SVC()\n",
    "model.fit(train_x_p,train_y_p) \n",
    "prediction=model.predict(test_x_p) \n",
    "print('The accuracy of the SVM using Gene 1 is:',metrics.accuracy_score(prediction,test_y_p))\n",
    "\n",
    "model=svm.SVC()\n",
    "model.fit(train_x_s,train_y_s) \n",
    "prediction=model.predict(test_x_s) \n",
    "print('The accuracy of the SVM using Gene 2 is:',metrics.accuracy_score(prediction,test_y_s))"
   ]
  },
  {
   "cell_type": "markdown",
   "metadata": {
    "deletable": true,
    "editable": true
   },
   "source": [
    "### Logistic Regression"
   ]
  },
  {
   "cell_type": "code",
   "execution_count": null,
   "metadata": {
    "collapsed": true,
    "deletable": true,
    "editable": true
   },
   "outputs": [],
   "source": [
    "model = LogisticRegression()\n",
    "model.fit(train_x_p,train_y_p) \n",
    "prediction=model.predict(test_x_p) \n",
    "print('The accuracy of the Logistic Regression using Gene 1 is:',metrics.accuracy_score(prediction,test_y_p))\n",
    "\n",
    "model.fit(train_x_s,train_y_s) \n",
    "prediction=model.predict(test_x_s) \n",
    "print('The accuracy of the Logistic Regression using Gene 2 is:',metrics.accuracy_score(prediction,test_y_s))"
   ]
  },
  {
   "cell_type": "markdown",
   "metadata": {
    "deletable": true,
    "editable": true
   },
   "source": [
    "### Decision Tree"
   ]
  },
  {
   "cell_type": "code",
   "execution_count": null,
   "metadata": {
    "collapsed": true,
    "deletable": true,
    "editable": true
   },
   "outputs": [],
   "source": [
    "model=DecisionTreeClassifier()\n",
    "model.fit(train_x_p,train_y_p) \n",
    "prediction=model.predict(test_x_p) \n",
    "print('The accuracy of the Decision Tree using Gene 1 is:',metrics.accuracy_score(prediction,test_y_p))\n",
    "\n",
    "model.fit(train_x_s,train_y_s) \n",
    "prediction=model.predict(test_x_s) \n",
    "print('The accuracy of the Decision Tree using Gene 2 is:',metrics.accuracy_score(prediction,test_y_s))"
   ]
  },
  {
   "cell_type": "markdown",
   "metadata": {
    "deletable": true,
    "editable": true
   },
   "source": [
    "### K-Nearest Neighbors"
   ]
  },
  {
   "cell_type": "code",
   "execution_count": null,
   "metadata": {
    "collapsed": true,
    "deletable": true,
    "editable": true
   },
   "outputs": [],
   "source": [
    "model=KNeighborsClassifier(n_neighbors=3) \n",
    "model.fit(train_x_p,train_y_p) \n",
    "prediction=model.predict(test_x_p) \n",
    "print('The accuracy of the KNN using Gene 1 is:',metrics.accuracy_score(prediction,test_y_p))\n",
    "\n",
    "model.fit(train_x_s,train_y_s) \n",
    "prediction=model.predict(test_x_s) \n",
    "print('The accuracy of the KNN using Gene 2 is:',metrics.accuracy_score(prediction,test_y_s))"
   ]
  },
  {
   "cell_type": "markdown",
   "metadata": {
    "deletable": true,
    "editable": true
   },
   "source": [
    "### 1) Which gene gives us the more accurate model?\n",
    "\n",
    "### 2) Is this what you expected from the heat map?"
   ]
  },
  {
   "cell_type": "markdown",
   "metadata": {
    "collapsed": true,
    "deletable": true,
    "editable": true
   },
   "source": [
    "Now try the SVM model with different sizes of training and test data sets. What happens when you make the training set too small? "
   ]
  },
  {
   "cell_type": "code",
   "execution_count": null,
   "metadata": {
    "collapsed": true,
    "deletable": true,
    "editable": true
   },
   "outputs": [],
   "source": []
  }
 ],
 "metadata": {
  "kernelspec": {
   "display_name": "Python 2",
   "language": "python",
   "name": "python2"
  },
  "language_info": {
   "codemirror_mode": {
    "name": "ipython",
    "version": 2
   },
   "file_extension": ".py",
   "mimetype": "text/x-python",
   "name": "python",
   "nbconvert_exporter": "python",
   "pygments_lexer": "ipython2",
   "version": "2.7.13"
  }
 },
 "nbformat": 4,
 "nbformat_minor": 2
}
