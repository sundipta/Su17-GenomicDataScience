{
 "cells": [
  {
   "cell_type": "markdown",
   "metadata": {},
   "source": [
    "### Welcome to using python! \n",
    "\n",
    "The first thing we'll do is import a library called pandas. In Python, a library is a suite of tools or programs that are intended for people to use in their own programs. The library pandas is good for\n",
    "data analysis."
   ]
  },
  {
   "cell_type": "code",
   "execution_count": 3,
   "metadata": {
    "collapsed": false
   },
   "outputs": [],
   "source": [
    "# <-- the Hashtag sign in Python lets you make comments in your code. Look for comments to explain what is going on\n",
    "\n",
    "import pandas \n",
    "\n",
    "# Press Shift + Enter to run this cell and import pandas\n"
   ]
  },
  {
   "cell_type": "markdown",
   "metadata": {},
   "source": [
    "For now, let's use some example data. This will be in the form of a csv file (csv means comma seperated values). Lucky for us, pandas has a way that we can import csv files easily. \n",
    "\n",
    "Use the file \"example_data.csv\" for the next few parts."
   ]
  },
  {
   "cell_type": "code",
   "execution_count": 24,
   "metadata": {
    "collapsed": false
   },
   "outputs": [],
   "source": [
    "# Here we read a csv file and save it to a variable called fly_info\n",
    "fly_info = pandas.read_csv(\"/Users/Sundipta/Desktop/example_data.csv\")\n",
    "\n",
    "# Modify the file location so that it reads the file correctly. When you're done, press shift+enter to run"
   ]
  },
  {
   "cell_type": "markdown",
   "metadata": {},
   "source": [
    "How do we know that the file was read correctly? We can use a command called print."
   ]
  },
  {
   "cell_type": "code",
   "execution_count": 26,
   "metadata": {
    "collapsed": false
   },
   "outputs": [
    {
     "name": "stdout",
     "output_type": "stream",
     "text": [
      "   Observed  Expected\n",
      "0        70        75\n",
      "1        30        25\n"
     ]
    }
   ],
   "source": [
    "print fly_info # The command print displays the data"
   ]
  },
  {
   "cell_type": "markdown",
   "metadata": {},
   "source": [
    "Great! Our file was read correctly. Notice that python has added a column with numbers to the left of our file. We call these numbers an index and we can use them to help us access rows of the file. \n",
    "We can access rows and columns of the data seperately. Let's see how. \n",
    " "
   ]
  },
  {
   "cell_type": "code",
   "execution_count": 27,
   "metadata": {
    "collapsed": false
   },
   "outputs": [
    {
     "name": "stdout",
     "output_type": "stream",
     "text": [
      "0    70\n",
      "1    30\n",
      "Name: Observed, dtype: int64\n"
     ]
    }
   ],
   "source": [
    "# Here we can access the column named Observed. Notice that we put the word Observed in quotes. Why?\n",
    "print fly_info[\"Observed\"]"
   ]
  },
  {
   "cell_type": "markdown",
   "metadata": {},
   "source": [
    "This gives us just the values in the column named Observed. Notice that at the bottom it tells us the name of the column and something called a data type (dtype). The data type here are integers (non-decimal numbers). Another data type is a string. A string is a set of characters, like a word or a name. We normally put strings in quotes. That's why we had the name of the column in quotes earlier... it's a string!"
   ]
  },
  {
   "cell_type": "markdown",
   "metadata": {},
   "source": [
    "Now let's use the data we have to help us calculate the Chi square value. Like in the PreLab, let's first create a new column that will contain the values of the observed minus the expected values. We can call the new column \"O-E\"."
   ]
  },
  {
   "cell_type": "code",
   "execution_count": 28,
   "metadata": {
    "collapsed": false
   },
   "outputs": [
    {
     "name": "stdout",
     "output_type": "stream",
     "text": [
      "   Observed  Expected  O-E\n",
      "0        70        75   -5\n",
      "1        30        25    5\n"
     ]
    }
   ],
   "source": [
    "fly_info[\"O-E\"] = fly_info[\"Observed\"] - fly_info[\"Expected\"] \n",
    "# In python, the symbols + and - do addition and subtraction respectively. \n",
    "#Pandas subtracts the Expected values from the Observed values in each row and creates a new column\n",
    "\n",
    "print fly_info"
   ]
  },
  {
   "cell_type": "markdown",
   "metadata": {},
   "source": [
    "Now let's create a column with (O-E) squared."
   ]
  },
  {
   "cell_type": "code",
   "execution_count": 29,
   "metadata": {
    "collapsed": false
   },
   "outputs": [
    {
     "name": "stdout",
     "output_type": "stream",
     "text": [
      "   Observed  Expected  O-E  (O-E)^2\n",
      "0        70        75   -5       25\n",
      "1        30        25    5       25\n"
     ]
    }
   ],
   "source": [
    "fly_info[\"(O-E)^2\"] = fly_info[\"O-E\"]**2 # The double asterisk indicates that we want an exponent\n",
    "\n",
    "print fly_info"
   ]
  },
  {
   "cell_type": "markdown",
   "metadata": {},
   "source": [
    "Remember, the Chi square uses (O-E)^2 divided by E. Let's create that column. "
   ]
  },
  {
   "cell_type": "code",
   "execution_count": 30,
   "metadata": {
    "collapsed": false
   },
   "outputs": [
    {
     "name": "stdout",
     "output_type": "stream",
     "text": [
      "   Observed  Expected  O-E  (O-E)^2  (O-E)^2/E\n",
      "0        70        75   -5       25   0.333333\n",
      "1        30        25    5       25   1.000000\n"
     ]
    }
   ],
   "source": [
    "fly_info[\"(O-E)^2/E\"] = fly_info[\"(O-E)^2\"]/fly_info[\"Expected\"]\n",
    "# In python, the / does division\n",
    "\n",
    "print fly_info"
   ]
  },
  {
   "cell_type": "markdown",
   "metadata": {},
   "source": [
    "Now, we want to sum all the values in the last column that we created. Pandas has a handy method called sum that will do that for us. It's similar to summing values in excel. "
   ]
  },
  {
   "cell_type": "code",
   "execution_count": 32,
   "metadata": {
    "collapsed": false
   },
   "outputs": [
    {
     "name": "stdout",
     "output_type": "stream",
     "text": [
      "1.33333333333\n"
     ]
    }
   ],
   "source": [
    "chi_square_value = fly_info[\"(O-E)^2/E\"].sum()\n",
    "print chi_square_value"
   ]
  },
  {
   "cell_type": "markdown",
   "metadata": {},
   "source": [
    "One way to think about chi square is that it's basically a measure of error. Lower is better, but to tell exactly how good it is, we need to use the chi square distribution table (see your prelab). \n",
    "\n",
    "If the chi square value is not above the p = 0.05 value(or the threshold that we are 95% certain the distributions are different) in the distribbution table, that means that we can accept our null hypothesis. In this case, our null hypothesis is that the observed flies have the same distribution as the expected 3:1 ratio.\n",
    "\n"
   ]
  },
  {
   "cell_type": "markdown",
   "metadata": {},
   "source": [
    "###  Now use this file as a template to calculate the chi square values for your own data!"
   ]
  },
  {
   "cell_type": "code",
   "execution_count": null,
   "metadata": {
    "collapsed": true
   },
   "outputs": [],
   "source": []
  }
 ],
 "metadata": {
  "kernelspec": {
   "display_name": "Python 2",
   "language": "python",
   "name": "python2"
  },
  "language_info": {
   "codemirror_mode": {
    "name": "ipython",
    "version": 2
   },
   "file_extension": ".py",
   "mimetype": "text/x-python",
   "name": "python",
   "nbconvert_exporter": "python",
   "pygments_lexer": "ipython2",
   "version": "2.7.13"
  }
 },
 "nbformat": 4,
 "nbformat_minor": 2
}
